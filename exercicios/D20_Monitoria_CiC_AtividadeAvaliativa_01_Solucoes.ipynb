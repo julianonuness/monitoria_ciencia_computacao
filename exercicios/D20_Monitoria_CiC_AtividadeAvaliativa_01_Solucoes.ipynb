{
  "nbformat": 4,
  "nbformat_minor": 0,
  "metadata": {
    "colab": {
      "name": "D20_Monitoria_CiC_AtividadeAvaliativa_01_Solucoes.ipynb",
      "provenance": [],
      "collapsed_sections": []
    },
    "kernelspec": {
      "name": "python3",
      "display_name": "Python 3"
    },
    "language_info": {
      "name": "python"
    }
  },
  "cells": [
    {
      "cell_type": "markdown",
      "metadata": {
        "id": "S4DIBYSDxGGk"
      },
      "source": [
        "## Enap - Especialização em Ciência de Dados aplicada a Políticas Públicas\n",
        "# D20 - Monitoria em Ciência da Computação\n",
        "\n",
        "## Atividade Avaliativa 01\n",
        "\n",
        "Nessa atividade, você poderá avaliar seu progresso nos conceitos e habilidades trabalhados no primeiro ciclo da disciplina, isto é, o conteúdo de todas as aulas ministradas em 2021.\n",
        "\n",
        "Para iniciar sua avaliação, execute a célula abaixo, que permitirá o registro de suas respostas no Dashboard de notas. Depois, responda às questões escrevendo uma função Python que atenda ao comando de cada questão. Note que cada questão é composta por três células: a primeira célula para sua resposta, a segunda célula para testes e a terceira para validação e registro da resposta.\n"
      ]
    },
    {
      "cell_type": "code",
      "metadata": {
        "id": "GFvp5L5Qw_Ca"
      },
      "source": [
        "#@title Célula de inicialização. Por favor, execute.\n",
        "import sys, os, subprocess\n",
        "from datetime import datetime\n",
        "import requests\n",
        "import time\n",
        "from requests.utils import quote\n",
        "url = 'https://docs.google.com/forms/d/e/1FAIpQLSeASSC8-w8FmfodZ4lBnuSEAvYuE4vatIBowLIREG1f-2pIpA/formResponse?usp=pp_url&entry.1986154915=mbacd&entry.513694412=2021&entry.1914621244=MonitoriaCienciaComputacao'\n",
        "\n",
        "def format_values(values):\n",
        "    return {\n",
        "        \"entry.1269959472\": values['student_id'],\n",
        "        \"entry.1799867692\": str(values['exercise_number']).replace(\".\", \"_\"),\n",
        "        \"entry.886231469\": values['exercise_score'],\n",
        "        \"entry.1491599254\": values['exercise_extra'],\n",
        "        \"entry.1342537331\": values['id']\n",
        "    }\n",
        "\n",
        "def send_attendance(url, data):\n",
        "    count = 0\n",
        "    while count < 3:\n",
        "        count += 1\n",
        "        try:\n",
        "          r = requests.post(url, data=data)\n",
        "          break\n",
        "        except:\n",
        "          print(\"Error Occured!\")\n",
        "          time.sleep(2)\n",
        "\n",
        "os.system('pip install virtualenv')\n",
        "\n",
        "def validate(func, inputs, outfunc, outputs, exercise_number, exercise_extra):\n",
        "  answers_status = True\n",
        "  outputs = [True for x in inputs] if outputs == None else outputs\n",
        "  \n",
        "  for k, v in zip(inputs, outputs):\n",
        "    ans = func(*k)\n",
        "    result = None\n",
        "    try:        \n",
        "        result = outfunc(ans, k) == v\n",
        "        if not result:\n",
        "          answers_status = False\n",
        "          print(f\"Resposta incorreta. {func.__name__}({k}) deveria ser {v}, mas retornou {ans}\")\n",
        "    except ValueError:\n",
        "        pass\n",
        "        if not result.all():\n",
        "          answers_status = False\n",
        "          print(f\"Resposta incorreta. {func.__name__}({k}) deveria ser {v}, mas retornou {ans}\")\n",
        "\n",
        "  if answers_status:    \n",
        "    student_email=!gcloud config get-value account\n",
        "    if not student_email or 'unset' in student_email[0]:\n",
        "      !gcloud auth login\n",
        "      student_email=!gcloud config get-value account\n",
        "    exercise_score = True\n",
        "    values = {\"exercise_number\": exercise_number, \"student_id\": student_email[0],\n",
        "              \"exercise_points\": 1, \"exercise_score\": exercise_score, \n",
        "              \"exercise_extra\": exercise_extra,\n",
        "              \"id\": f\"{student_email[0]}_{exercise_number}\"}\n",
        "    final_data = format_values(values)\n",
        "    send_attendance(f\"{url}&emailAddress={quote(str(student_email[0]))}\", final_data)\n",
        "    print(\"Parabéns\")\n",
        "\n"
      ],
      "execution_count": null,
      "outputs": []
    },
    {
      "cell_type": "markdown",
      "metadata": {
        "id": "-YW2g2s_1eio"
      },
      "source": [
        "### Questão 01\n",
        "\n",
        "Crie uma função que retorne o string `\"pelo menos um verdadeiro\"` quando o resultado da operação lógica de **conjunção** entre dois parâmetros for verdadeira ($x \\vee y = True$) ou o string vazio `\"\"`, quando for falsa ($x \\vee y = False$):"
      ]
    },
    {
      "cell_type": "code",
      "metadata": {
        "id": "QfUK-S3YW_x0"
      },
      "source": [
        "def conjuncao(x, y):  \n",
        "  # Escreva sua resposta aqui\n",
        "  return \"pelo menos um verdadeiro\" if (x or y) else \"\"\n",
        "  "
      ],
      "execution_count": null,
      "outputs": []
    },
    {
      "cell_type": "code",
      "metadata": {
        "id": "FH2TEHO3XANz"
      },
      "source": [
        "# Utilize esta célula para testar sua resposta\n"
      ],
      "execution_count": null,
      "outputs": []
    },
    {
      "cell_type": "code",
      "metadata": {
        "id": "-2DKUyPpXAqb"
      },
      "source": [
        "# Execute esta célula para realizar a validação e registro da sua resposta\n",
        "entradas = [[False, False], [False, True], [True, False], [True, True]]\n",
        "saidas = [\"\", \"pelo menos um verdadeiro\", \"pelo menos um verdadeiro\", \"pelo menos um verdadeiro\"]\n",
        "\n",
        "validate(conjuncao, entradas, lambda x, y: x if y[0] or y[1] else \"\", saidas, \"a1.1\", False)"
      ],
      "execution_count": null,
      "outputs": []
    },
    {
      "cell_type": "markdown",
      "metadata": {
        "id": "Fv94_sbEXBVq"
      },
      "source": [
        "### Questão 02\n",
        "\n",
        "Crie uma função que retorne o resultado da operação lógica de **implicação** entre dois parâmetros ($x \\rightarrow y$):"
      ]
    },
    {
      "cell_type": "code",
      "metadata": {
        "id": "oSl3Rmtm3I-2"
      },
      "source": [
        "def implicacao(x, y):  \n",
        "  # Escreva sua resposta aqui\n",
        "  return (not x) or y\n",
        "  "
      ],
      "execution_count": null,
      "outputs": []
    },
    {
      "cell_type": "code",
      "metadata": {
        "id": "vb5EdsGT3P3t"
      },
      "source": [
        "# Utilize esta célula para testar sua resposta\n"
      ],
      "execution_count": null,
      "outputs": []
    },
    {
      "cell_type": "code",
      "metadata": {
        "id": "dy2xTLHH3cQN"
      },
      "source": [
        "# Execute esta célula para realizar a validação e registro da sua resposta\n",
        "entradas = [[False, False], [False, True], [True, False], [True, True]]\n",
        "saidas = [True, True, False, True]\n",
        "\n",
        "validate(implicacao, entradas, lambda x, y: x, saidas, \"a1.2\", False)"
      ],
      "execution_count": null,
      "outputs": []
    },
    {
      "cell_type": "markdown",
      "metadata": {
        "id": "bqR8uQXv8UjS"
      },
      "source": [
        "### Questão 03\n",
        "Crie uma função que retorne o resultado da operação lógica de *exclusão* entre dois parâmetros ($x \\veebar y$)"
      ]
    },
    {
      "cell_type": "code",
      "metadata": {
        "id": "6kTBGYyF8VCC"
      },
      "source": [
        "def exclusao(x, y):\n",
        "  # Escreva sua resposta aqui\n",
        "  return (not x) != (not y)\n"
      ],
      "execution_count": null,
      "outputs": []
    },
    {
      "cell_type": "code",
      "metadata": {
        "id": "hal2PDOV8VcC"
      },
      "source": [
        "# Utilize esta célula para testar sua resposta\n"
      ],
      "execution_count": null,
      "outputs": []
    },
    {
      "cell_type": "code",
      "metadata": {
        "id": "MTC_w3T38VZk"
      },
      "source": [
        "# Execute esta célula para realizar a validação e registro da sua resposta\n",
        "entradas = [[False, False], [False, True], [True, False], [True, True]]\n",
        "saidas = [False, True, True, False]\n",
        "\n",
        "validate(exclusao, entradas, lambda x, y: x, saidas, \"a1.3\", False)"
      ],
      "execution_count": null,
      "outputs": []
    },
    {
      "cell_type": "markdown",
      "metadata": {
        "id": "_jDBbVLK8WWq"
      },
      "source": [
        "### Questão 04\n",
        "Crie uma função que crie um arquivo com o nome indicado no parâmetro `nome`:\n",
        "* Dica: você pode usar os métodos `os.system('cmd')` ou `subprocess.getoutput('cmd')` para executar comandos de terminal"
      ]
    },
    {
      "cell_type": "code",
      "metadata": {
        "id": "2bIWaFpi8W5R"
      },
      "source": [
        "def criar_arquivo(nome):  \n",
        "  # Escreva sua resposta aqui\n",
        "  os.system(f'touch {nome}')\n"
      ],
      "execution_count": null,
      "outputs": []
    },
    {
      "cell_type": "code",
      "metadata": {
        "id": "2gZNXzY08XQp"
      },
      "source": [
        "# Utilize esta célula para testar sua resposta\n"
      ],
      "execution_count": null,
      "outputs": []
    },
    {
      "cell_type": "code",
      "metadata": {
        "id": "jIsgZx2G8X8a"
      },
      "source": [
        "# Execute esta célula para realizar a validação e registro da sua resposta\n",
        "entradas = [['file1'], ['file2'], ['file3']]\n",
        "\n",
        "validate(criar_arquivo, entradas, lambda x, y: os.system(f'cat {y[0]}') == 0, None, \"a1.4\", False)"
      ],
      "execution_count": null,
      "outputs": []
    },
    {
      "cell_type": "markdown",
      "metadata": {
        "id": "vBm9x5xi8YUR"
      },
      "source": [
        "### Questão 05\n",
        "Crie uma função que crie um diretório com o nome indicado no parâmetro `nome`:"
      ]
    },
    {
      "cell_type": "code",
      "metadata": {
        "id": "_ONPDChu8nrB"
      },
      "source": [
        "def criar_diretorio(nome):\n",
        "  # Escreva sua resposta aqui\n",
        "  os.system(f'mkdir {nome}')\n"
      ],
      "execution_count": null,
      "outputs": []
    },
    {
      "cell_type": "code",
      "metadata": {
        "id": "atYxbHcz8oBJ"
      },
      "source": [
        "# Utilize esta célula para testar sua resposta\n"
      ],
      "execution_count": null,
      "outputs": []
    },
    {
      "cell_type": "code",
      "metadata": {
        "id": "36gnh6O08oUp"
      },
      "source": [
        "# Execute esta célula para realizar a validação e registro da sua resposta\n",
        "entradas = [['dir1'], ['dir2'], ['dir3']]\n",
        "\n",
        "validate(criar_diretorio, entradas, lambda x, y: os.system(f'ls -las {y[0]}') == 0, None, \"a1.5\", False)"
      ],
      "execution_count": null,
      "outputs": []
    },
    {
      "cell_type": "markdown",
      "metadata": {
        "id": "mWt_8DvD8pGR"
      },
      "source": [
        "### Questão 06\n",
        "Crie uma função que crie um arquivo `nomeArquivo` dentro do diretório `nomeDiretorio`. A função deve criar o diretório, caso esse ainda não exista.\n",
        "* Dica 1: você pode usar o comando `os.chdir(path)` para mudar de diretório\n",
        "* Dica 2: você também pode executar uma composição de comandos de terminal utilizando a expressão `&&`, como em `os.system('cmd1 && cmd2')`:"
      ]
    },
    {
      "cell_type": "code",
      "metadata": {
        "id": "O5YV2JC28pih"
      },
      "source": [
        "def criar_arquivo_no_diretorio(nomeArquivo, nomeDiretorio):\n",
        "  # Escreva sua resposta aqui\n",
        "  os.system(f'mkdir -p {nomeDiretorio} && touch {nomeDiretorio}/{nomeArquivo}')\n"
      ],
      "execution_count": null,
      "outputs": []
    },
    {
      "cell_type": "code",
      "metadata": {
        "id": "j4eUQCEy8p6I"
      },
      "source": [
        "# Utilize esta célula para testar sua resposta\n"
      ],
      "execution_count": null,
      "outputs": []
    },
    {
      "cell_type": "code",
      "metadata": {
        "id": "gBqK1rV08q25"
      },
      "source": [
        "# Execute esta célula para realizar a validação e registro da sua resposta\n",
        "entradas = [['fileA1', 'dirA'], ['fileA2', 'dirA'], ['fileB', 'dirB']]\n",
        "\n",
        "validate(criar_arquivo_no_diretorio, entradas, lambda x, y: os.system(f'cat {y[1]}/{y[0]}')==0, None, \"a1.6\", False)"
      ],
      "execution_count": null,
      "outputs": []
    },
    {
      "cell_type": "markdown",
      "metadata": {
        "id": "IIMnVqzD8sZJ"
      },
      "source": [
        "### Questão 07\n",
        "Crie uma função que crie um diretório, dentro do diretório recém-criado, crie um ambiente virtual Python\n",
        "* Dica: utilize o comando de terminal `virtualenv`, conforme apresentado em aula"
      ]
    },
    {
      "cell_type": "code",
      "metadata": {
        "id": "tzvC_QzV8s-B"
      },
      "source": [
        "def criar_projeto_python(nomeProjeto):\n",
        "  # Escreva sua resposta aqui\n",
        "  os.system(f'mkdir -p {nomeProjeto} && cd {nomeProjeto} && virtualenv venv')"
      ],
      "execution_count": null,
      "outputs": []
    },
    {
      "cell_type": "code",
      "metadata": {
        "id": "Xi4b7n_d8tbZ"
      },
      "source": [
        "# Utilize esta célula para testar sua resposta\n"
      ],
      "execution_count": null,
      "outputs": []
    },
    {
      "cell_type": "code",
      "metadata": {
        "id": "KlE2mGT78ug7"
      },
      "source": [
        "# Execute esta célula para realizar a validação e registro da sua resposta\n",
        "entradas = [['proj1'], ['proj2']]\n",
        "\n",
        "validate(criar_projeto_python, entradas, lambda x, y: bool(len(subprocess.getoutput(f'find {y} -name site-packages'))), None, \"a1.7\", False)"
      ],
      "execution_count": null,
      "outputs": []
    },
    {
      "cell_type": "markdown",
      "metadata": {
        "id": "oPHLcnGW8vQp"
      },
      "source": [
        "### Questão 08\n",
        "Crie uma função que crie um diretório, dentro do diretório recém-criado, inicie um repositório Git e configure um nome e e-mail para o repositório:\n",
        "* Dica: use os comandos `git init` e `git config`, conforme apresentados em aula"
      ]
    },
    {
      "cell_type": "code",
      "metadata": {
        "id": "B82B0T1b84lY"
      },
      "source": [
        "def criar_repo_git(nomeRepositorio):\n",
        "  # Escreva sua resposta aqui\n",
        "  os.system(f'mkdir -p {nomeRepositorio} && cd {nomeRepositorio} && git init && git config user.name \"John Doe\" && git config user.email \"johndoe@example.com\"')\n"
      ],
      "execution_count": null,
      "outputs": []
    },
    {
      "cell_type": "code",
      "metadata": {
        "id": "gPT77UfH8434"
      },
      "source": [
        "# Utilize esta célula para testar sua resposta\n"
      ],
      "execution_count": null,
      "outputs": []
    },
    {
      "cell_type": "code",
      "metadata": {
        "id": "k-WrzBLp86II"
      },
      "source": [
        "# Execute esta célula para realizar a validação e registro da sua resposta\n",
        "entradas = [['repo1'], ['repo2'], ['repo3']]\n",
        "\n",
        "validate(criar_repo_git, entradas, lambda x, y: bool(len(subprocess.getoutput(f'find {y[0]} -name HEAD'))), None, \"a1.8\", False)"
      ],
      "execution_count": null,
      "outputs": []
    },
    {
      "cell_type": "markdown",
      "metadata": {
        "id": "li9sEgB188tA"
      },
      "source": [
        "### Questão 09\n",
        "Crie uma função que crie um arquivo `nomeArquivo` dentro do repositório `nomeRepositorio` e faça o commit do arquivo naquele repositório:\n",
        "* Observação: o repositório já foi criado no exercício anterior\n",
        "* Dica 1: não se esqueça da opção `-m \"comment\"` para adicionar a descrição do commit.\n",
        "* Dica 2: você também pode informar o autor do commit com a opção `--author=\"Bruce Wayne <bruce@wayne.com>\"`"
      ]
    },
    {
      "cell_type": "code",
      "metadata": {
        "id": "NI124qAZ8-sA"
      },
      "source": [
        "def create_add_commit(nomeArquivo, nomeRepositorio):\n",
        "  # Escreva sua resposta aqui\n",
        "  os.system(f'cd {nomeRepositorio} && touch {nomeArquivo} && git add -A && git commit -am \"Coisa\"')\n"
      ],
      "execution_count": null,
      "outputs": []
    },
    {
      "cell_type": "code",
      "metadata": {
        "id": "y6Kkxgr18_GA"
      },
      "source": [
        "# Utilize esta célula para testar sua resposta\n"
      ],
      "execution_count": null,
      "outputs": []
    },
    {
      "cell_type": "code",
      "metadata": {
        "id": "km7eIjBj9AHZ"
      },
      "source": [
        "# Execute esta célula para realizar a validação e registro da sua resposta\n",
        "entradas = [['file1', 'repo1'], ['file2', 'repo2'], ['file3', 'repo3']]\n",
        "\n",
        "validate(create_add_commit, entradas, lambda x, y: y[0] == subprocess.getoutput(f'cd {y[1]} && git ls-files {y[0]}'), None, \"a1.9\", False)"
      ],
      "execution_count": null,
      "outputs": []
    },
    {
      "cell_type": "markdown",
      "metadata": {
        "id": "7SiP35729AhA"
      },
      "source": [
        "### Questão 10\n",
        "Crie uma função que crie o branch `nomeBranch` dentro do repositório `nomeRepositorio`:\n",
        "* Observação: o repositório já foi criado na Questão 08"
      ]
    },
    {
      "cell_type": "code",
      "metadata": {
        "id": "PEVhBq5o9BDi"
      },
      "source": [
        "def create_branch(nomeBranch, nomeRepositorio):\n",
        "  # Escreva sua resposta aqui\n",
        "  os.system(f'cd {nomeRepositorio} && git branch {nomeBranch}')\n"
      ],
      "execution_count": null,
      "outputs": []
    },
    {
      "cell_type": "code",
      "metadata": {
        "id": "YCgJ66rl9Bg4"
      },
      "source": [
        "# Utilize esta célula para testar sua resposta\n"
      ],
      "execution_count": null,
      "outputs": []
    },
    {
      "cell_type": "code",
      "metadata": {
        "id": "S44qraqo9CIo"
      },
      "source": [
        "# Execute esta célula para realizar a validação e registro da sua resposta\n",
        "entradas = [['b1', 'repo1'], ['b2', 'repo2'], ['b3', 'repo3']]\n",
        "\n",
        "validate(create_branch, entradas, lambda x, y: y[0] == subprocess.getoutput(f'cd {y[1]} && git branch --list {y[0]}').strip(), None, \"a1.10\", False)"
      ],
      "execution_count": null,
      "outputs": []
    }
  ]
}